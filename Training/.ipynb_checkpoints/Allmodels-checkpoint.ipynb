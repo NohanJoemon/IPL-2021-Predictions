{
 "cells": [
  {
   "cell_type": "markdown",
   "id": "294faced",
   "metadata": {},
   "source": [
    "## Importing useful packages and the dataset"
   ]
  },
  {
   "cell_type": "code",
   "execution_count": 87,
   "id": "729f0708",
   "metadata": {},
   "outputs": [
    {
     "name": "stderr",
     "output_type": "stream",
     "text": [
      "C:\\Users\\Han\\AppData\\Local\\Programs\\Python\\Python39\\lib\\site-packages\\IPython\\core\\interactiveshell.py:3457: DtypeWarning: Columns (1) have mixed types.Specify dtype option on import or set low_memory=False.\n",
      "  exec(code_obj, self.user_global_ns, self.user_ns)\n"
     ]
    }
   ],
   "source": [
    "import pandas as pd\n",
    "import numpy as np\n",
    "from sklearn.compose import ColumnTransformer\n",
    "from sklearn.preprocessing import OneHotEncoder\n",
    "import joblib\n",
    "X_raw=pd.read_csv('all_matches.csv')"
   ]
  },
  {
   "cell_type": "markdown",
   "id": "fb7f5890",
   "metadata": {},
   "source": [
    "## Data Preprocessing"
   ]
  },
  {
   "cell_type": "code",
   "execution_count": 88,
   "id": "c48b3124",
   "metadata": {},
   "outputs": [
    {
     "data": {
      "text/html": [
       "<div>\n",
       "<style scoped>\n",
       "    .dataframe tbody tr th:only-of-type {\n",
       "        vertical-align: middle;\n",
       "    }\n",
       "\n",
       "    .dataframe tbody tr th {\n",
       "        vertical-align: top;\n",
       "    }\n",
       "\n",
       "    .dataframe thead th {\n",
       "        text-align: right;\n",
       "    }\n",
       "</style>\n",
       "<table border=\"1\" class=\"dataframe\">\n",
       "  <thead>\n",
       "    <tr style=\"text-align: right;\">\n",
       "      <th></th>\n",
       "      <th>venue</th>\n",
       "      <th>innings</th>\n",
       "      <th>batting_team</th>\n",
       "      <th>bowling_team</th>\n",
       "      <th>NumBatsmen</th>\n",
       "      <th>NumBowlers</th>\n",
       "      <th>Totalruns</th>\n",
       "    </tr>\n",
       "  </thead>\n",
       "  <tbody>\n",
       "    <tr>\n",
       "      <th>0</th>\n",
       "      <td>M.Chinnaswamy Stadium</td>\n",
       "      <td>1</td>\n",
       "      <td>Kolkata Knight Riders</td>\n",
       "      <td>Royal Challengers Bangalore</td>\n",
       "      <td>3</td>\n",
       "      <td>3</td>\n",
       "      <td>61</td>\n",
       "    </tr>\n",
       "    <tr>\n",
       "      <th>1</th>\n",
       "      <td>M.Chinnaswamy Stadium</td>\n",
       "      <td>2</td>\n",
       "      <td>Royal Challengers Bangalore</td>\n",
       "      <td>Kolkata Knight Riders</td>\n",
       "      <td>6</td>\n",
       "      <td>3</td>\n",
       "      <td>26</td>\n",
       "    </tr>\n",
       "    <tr>\n",
       "      <th>2</th>\n",
       "      <td>Arun Jaitley Stadium</td>\n",
       "      <td>1</td>\n",
       "      <td>Rajasthan Royals</td>\n",
       "      <td>Delhi Capitals</td>\n",
       "      <td>4</td>\n",
       "      <td>3</td>\n",
       "      <td>40</td>\n",
       "    </tr>\n",
       "    <tr>\n",
       "      <th>3</th>\n",
       "      <td>Arun Jaitley Stadium</td>\n",
       "      <td>2</td>\n",
       "      <td>Delhi Capitals</td>\n",
       "      <td>Rajasthan Royals</td>\n",
       "      <td>3</td>\n",
       "      <td>3</td>\n",
       "      <td>55</td>\n",
       "    </tr>\n",
       "    <tr>\n",
       "      <th>4</th>\n",
       "      <td>Wankhede Stadium</td>\n",
       "      <td>1</td>\n",
       "      <td>Mumbai Indians</td>\n",
       "      <td>Royal Challengers Bangalore</td>\n",
       "      <td>5</td>\n",
       "      <td>3</td>\n",
       "      <td>47</td>\n",
       "    </tr>\n",
       "    <tr>\n",
       "      <th>...</th>\n",
       "      <td>...</td>\n",
       "      <td>...</td>\n",
       "      <td>...</td>\n",
       "      <td>...</td>\n",
       "      <td>...</td>\n",
       "      <td>...</td>\n",
       "      <td>...</td>\n",
       "    </tr>\n",
       "    <tr>\n",
       "      <th>663</th>\n",
       "      <td>Wankhede Stadium</td>\n",
       "      <td>2</td>\n",
       "      <td>Rajasthan Royals</td>\n",
       "      <td>Kolkata Knight Riders</td>\n",
       "      <td>4</td>\n",
       "      <td>4</td>\n",
       "      <td>50</td>\n",
       "    </tr>\n",
       "    <tr>\n",
       "      <th>664</th>\n",
       "      <td>Wankhede Stadium</td>\n",
       "      <td>1</td>\n",
       "      <td>Chennai Super Kings</td>\n",
       "      <td>Royal Challengers Bangalore</td>\n",
       "      <td>2</td>\n",
       "      <td>4</td>\n",
       "      <td>51</td>\n",
       "    </tr>\n",
       "    <tr>\n",
       "      <th>665</th>\n",
       "      <td>Wankhede Stadium</td>\n",
       "      <td>2</td>\n",
       "      <td>Royal Challengers Bangalore</td>\n",
       "      <td>Chennai Super Kings</td>\n",
       "      <td>4</td>\n",
       "      <td>3</td>\n",
       "      <td>65</td>\n",
       "    </tr>\n",
       "    <tr>\n",
       "      <th>666</th>\n",
       "      <td>MA Chidambaram Stadium</td>\n",
       "      <td>1</td>\n",
       "      <td>Delhi Capitals</td>\n",
       "      <td>Sunrisers Hyderabad</td>\n",
       "      <td>2</td>\n",
       "      <td>4</td>\n",
       "      <td>51</td>\n",
       "    </tr>\n",
       "    <tr>\n",
       "      <th>667</th>\n",
       "      <td>MA Chidambaram Stadium</td>\n",
       "      <td>2</td>\n",
       "      <td>Sunrisers Hyderabad</td>\n",
       "      <td>Delhi Capitals</td>\n",
       "      <td>4</td>\n",
       "      <td>5</td>\n",
       "      <td>56</td>\n",
       "    </tr>\n",
       "  </tbody>\n",
       "</table>\n",
       "<p>668 rows × 7 columns</p>\n",
       "</div>"
      ],
      "text/plain": [
       "                      venue  innings                 batting_team  \\\n",
       "0     M.Chinnaswamy Stadium        1        Kolkata Knight Riders   \n",
       "1     M.Chinnaswamy Stadium        2  Royal Challengers Bangalore   \n",
       "2      Arun Jaitley Stadium        1             Rajasthan Royals   \n",
       "3      Arun Jaitley Stadium        2               Delhi Capitals   \n",
       "4          Wankhede Stadium        1               Mumbai Indians   \n",
       "..                      ...      ...                          ...   \n",
       "663        Wankhede Stadium        2             Rajasthan Royals   \n",
       "664        Wankhede Stadium        1          Chennai Super Kings   \n",
       "665        Wankhede Stadium        2  Royal Challengers Bangalore   \n",
       "666  MA Chidambaram Stadium        1               Delhi Capitals   \n",
       "667  MA Chidambaram Stadium        2          Sunrisers Hyderabad   \n",
       "\n",
       "                    bowling_team  NumBatsmen  NumBowlers  Totalruns  \n",
       "0    Royal Challengers Bangalore           3           3         61  \n",
       "1          Kolkata Knight Riders           6           3         26  \n",
       "2                 Delhi Capitals           4           3         40  \n",
       "3               Rajasthan Royals           3           3         55  \n",
       "4    Royal Challengers Bangalore           5           3         47  \n",
       "..                           ...         ...         ...        ...  \n",
       "663        Kolkata Knight Riders           4           4         50  \n",
       "664  Royal Challengers Bangalore           2           4         51  \n",
       "665          Chennai Super Kings           4           3         65  \n",
       "666          Sunrisers Hyderabad           2           4         51  \n",
       "667               Delhi Capitals           4           5         56  \n",
       "\n",
       "[668 rows x 7 columns]"
      ]
     },
     "execution_count": 88,
     "metadata": {},
     "output_type": "execute_result"
    }
   ],
   "source": [
    "# Selecting useful features\n",
    "X_train=pd.DataFrame()\n",
    "X_train=X_raw.loc[:,['match_id','venue','innings','batting_team','bowling_team','ball','runs_off_bat','extras','striker','non_striker','bowler']]\n",
    "X_train\n",
    "\n",
    "# Kings XI Punjab to Punjab Kings and Delhi Daredevils to Delhi Capitals\n",
    "mapping = {\n",
    "    'Kings XI Punjab' : 'Punjab Kings',\n",
    "    'Delhi Daredevils' : 'Delhi Capitals',\n",
    "    'Kolkata Knight Riders' : 'Kolkata Knight Riders',\n",
    "    \"Delhi Capitals\" : \"Delhi Capitals\",\n",
    "    \"Mumbai Indians\" : \"Mumbai Indians\",\n",
    "    \"Chennai Super Kings\":\"Chennai Super Kings\",\n",
    "    \"Rajasthan Royals\":\"Rajasthan Royals\",\n",
    "    \"Royal Challengers Bangalore\":\"Royal Challengers Bangalore\",\n",
    "    \"Sunrisers Hyderabad\":\"Sunrisers Hyderabad\"\n",
    "}\n",
    "X_train.batting_team=X_train.batting_team.map(mapping)\n",
    "X_train.bowling_team=X_train.bowling_team.map(mapping)\n",
    "\n",
    "# Mapping venues\n",
    "mapping2 = {\n",
    "    \"Wankhede Stadium\":\"Wankhede Stadium\",\n",
    "    \"Wankhede Stadium, Mumbai\":\"Wankhede Stadium\",\n",
    "    \"MA Chidambaram Stadium, Chepauk\":\"MA Chidambaram Stadium\",\n",
    "    \"MA Chidambaram Stadium\":\"MA Chidambaram Stadium\",\n",
    "    \"MA Chidambaram Stadium, Chepauk, Chennai\":\"MA Chidambaram Stadium\",\n",
    "    \"M Chinnaswamy Stadium\":\"M.Chinnaswamy Stadium\",\n",
    "    \"M.Chinnaswamy Stadium\":\"M.Chinnaswamy Stadium\",\n",
    "    \"Eden Gardens\":\"Eden Gardens\",\n",
    "    \"Feroz Shah Kotla\":\"Arun Jaitley Stadium\",\n",
    "    \"Arun Jaitley Stadium\":\"Arun Jaitley Stadium\",\n",
    "    \"Sardar Patel Stadium, Motera\":\"Narendra Modi Stadium\"\n",
    "}\n",
    "X_train.venue=X_train.venue.map(mapping2)\n",
    "\n",
    "# Adding new feature: Totalruns\n",
    "X_train['Totalruns'] = X_train['runs_off_bat'] + X_train['extras']\n",
    "\n",
    "# Selecting first six overs and removing superover innings\n",
    "X_train1=X_train.loc[(X_train.ball < 6.1) & (X_train.innings.isin([1,2]))]\n",
    "\n",
    "# Removing old teams and unwanted venues\n",
    "teams=[\"Delhi Capitals\",\"Kolkata Knight Riders\",\"Mumbai Indians\",\"Chennai Super Kings\",\"Sunrisers Hyderabad\",\"Rajasthan Royals\",\"Punjab Kings\",\"Royal Challengers Bangalore\"]\n",
    "venues=[\"Wankhede Stadium\",\"MA Chidambaram Stadium\",\"M.Chinnaswamy Stadium\",\"Eden Gardens\",\"Arun Jaitley Stadium\",\"Narendra Modi Stadium\"]\n",
    "X_train1=X_train1.loc[(X_train1.batting_team.isin(teams))]\n",
    "X_train1=X_train1.loc[(X_train1.bowling_team.isin(teams))]\n",
    "X_train1=X_train1.loc[(X_train1.venue.isin(venues))]\n",
    "\n",
    "# Grouping by matches,innings,etc and creating dataframe for storing totalruns, batsmen list and bowler list\n",
    "df = X_train1.groupby(['match_id','innings','venue','batting_team','bowling_team'])\n",
    "\n",
    "c1=df.Totalruns.sum()\n",
    "c2=df[\"striker\"].unique()\n",
    "c3=df[\"bowler\"].unique()\n",
    "\n",
    "df1=c1.to_frame(name = 'Totalruns').reset_index()\n",
    "df2=c2.to_frame(name = 'batsmen').reset_index()\n",
    "df3=c3.to_frame(name = 'bowlers').reset_index()\n",
    "\n",
    "dff=df1.merge(df2, how='right', on=['match_id','venue','innings','batting_team','bowling_team'])\n",
    "data=dff.merge(df3, how='right', on=['match_id','venue','innings','batting_team','bowling_team'])\n",
    "\n",
    "#Removing this row as its a mistake\n",
    "index_names = data[ data['Totalruns'] == 2 ].index\n",
    "data.drop(index_names, inplace = True)\n",
    "\n",
    "# Removing match_id as it is just an index\n",
    "del data[\"match_id\"]\n",
    "data.reset_index(drop=True,inplace=True)\n",
    "\n",
    "# Shifting Totalruns to rightmost column and interchanging pos of innings and venue: required output as per convention\n",
    "data = data[[\"venue\", \"innings\", \"batting_team\",\"bowling_team\",\"batsmen\",\"bowlers\",\"Totalruns\"]]\n",
    "\n",
    "\n",
    "\n",
    "\n",
    "\n",
    "\n",
    "#Additional Processing for this level\n",
    "# Taking number of batsmen and no of bowlers as new columns\n",
    "data[\"NumBatsmen\"]=data[\"batsmen\"].apply(lambda x: len(x))\n",
    "data[\"NumBowlers\"]=data[\"bowlers\"].apply(lambda x: len(x))\n",
    "\n",
    "del data[\"batsmen\"]\n",
    "del data[\"bowlers\"]\n",
    "data.reset_index(drop=True,inplace=True)\n",
    "\n",
    "# Shifting Totalruns to rightmost column and interchanging pos of innings and venue: required output as per convention\n",
    "data = data[[\"venue\", \"innings\", \"batting_team\",\"bowling_team\",\"NumBatsmen\",\"NumBowlers\",\"Totalruns\"]]\n",
    "\n",
    "# FINAL DATAFRAME\n",
    "data"
   ]
  },
  {
   "cell_type": "markdown",
   "id": "ce6817ee",
   "metadata": {},
   "source": [
    "## Encoding of categorical inputs"
   ]
  },
  {
   "cell_type": "code",
   "execution_count": 89,
   "id": "6ed95adf",
   "metadata": {},
   "outputs": [
    {
     "data": {
      "text/html": [
       "<div>\n",
       "<style scoped>\n",
       "    .dataframe tbody tr th:only-of-type {\n",
       "        vertical-align: middle;\n",
       "    }\n",
       "\n",
       "    .dataframe tbody tr th {\n",
       "        vertical-align: top;\n",
       "    }\n",
       "\n",
       "    .dataframe thead th {\n",
       "        text-align: right;\n",
       "    }\n",
       "</style>\n",
       "<table border=\"1\" class=\"dataframe\">\n",
       "  <thead>\n",
       "    <tr style=\"text-align: right;\">\n",
       "      <th></th>\n",
       "      <th>0</th>\n",
       "      <th>1</th>\n",
       "      <th>2</th>\n",
       "      <th>3</th>\n",
       "      <th>4</th>\n",
       "      <th>5</th>\n",
       "      <th>6</th>\n",
       "      <th>7</th>\n",
       "      <th>8</th>\n",
       "      <th>9</th>\n",
       "      <th>...</th>\n",
       "      <th>17</th>\n",
       "      <th>18</th>\n",
       "      <th>19</th>\n",
       "      <th>20</th>\n",
       "      <th>21</th>\n",
       "      <th>22</th>\n",
       "      <th>23</th>\n",
       "      <th>24</th>\n",
       "      <th>25</th>\n",
       "      <th>26</th>\n",
       "    </tr>\n",
       "  </thead>\n",
       "  <tbody>\n",
       "    <tr>\n",
       "      <th>0</th>\n",
       "      <td>0.0</td>\n",
       "      <td>0.0</td>\n",
       "      <td>1.0</td>\n",
       "      <td>0.0</td>\n",
       "      <td>0.0</td>\n",
       "      <td>0.0</td>\n",
       "      <td>1.0</td>\n",
       "      <td>0.0</td>\n",
       "      <td>0.0</td>\n",
       "      <td>0.0</td>\n",
       "      <td>...</td>\n",
       "      <td>0.0</td>\n",
       "      <td>0.0</td>\n",
       "      <td>0.0</td>\n",
       "      <td>0.0</td>\n",
       "      <td>0.0</td>\n",
       "      <td>1.0</td>\n",
       "      <td>0.0</td>\n",
       "      <td>3.0</td>\n",
       "      <td>3.0</td>\n",
       "      <td>61.0</td>\n",
       "    </tr>\n",
       "    <tr>\n",
       "      <th>1</th>\n",
       "      <td>0.0</td>\n",
       "      <td>0.0</td>\n",
       "      <td>1.0</td>\n",
       "      <td>0.0</td>\n",
       "      <td>0.0</td>\n",
       "      <td>0.0</td>\n",
       "      <td>0.0</td>\n",
       "      <td>1.0</td>\n",
       "      <td>0.0</td>\n",
       "      <td>0.0</td>\n",
       "      <td>...</td>\n",
       "      <td>0.0</td>\n",
       "      <td>1.0</td>\n",
       "      <td>0.0</td>\n",
       "      <td>0.0</td>\n",
       "      <td>0.0</td>\n",
       "      <td>0.0</td>\n",
       "      <td>0.0</td>\n",
       "      <td>6.0</td>\n",
       "      <td>3.0</td>\n",
       "      <td>26.0</td>\n",
       "    </tr>\n",
       "    <tr>\n",
       "      <th>2</th>\n",
       "      <td>1.0</td>\n",
       "      <td>0.0</td>\n",
       "      <td>0.0</td>\n",
       "      <td>0.0</td>\n",
       "      <td>0.0</td>\n",
       "      <td>0.0</td>\n",
       "      <td>1.0</td>\n",
       "      <td>0.0</td>\n",
       "      <td>0.0</td>\n",
       "      <td>0.0</td>\n",
       "      <td>...</td>\n",
       "      <td>1.0</td>\n",
       "      <td>0.0</td>\n",
       "      <td>0.0</td>\n",
       "      <td>0.0</td>\n",
       "      <td>0.0</td>\n",
       "      <td>0.0</td>\n",
       "      <td>0.0</td>\n",
       "      <td>4.0</td>\n",
       "      <td>3.0</td>\n",
       "      <td>40.0</td>\n",
       "    </tr>\n",
       "    <tr>\n",
       "      <th>3</th>\n",
       "      <td>1.0</td>\n",
       "      <td>0.0</td>\n",
       "      <td>0.0</td>\n",
       "      <td>0.0</td>\n",
       "      <td>0.0</td>\n",
       "      <td>0.0</td>\n",
       "      <td>0.0</td>\n",
       "      <td>1.0</td>\n",
       "      <td>0.0</td>\n",
       "      <td>1.0</td>\n",
       "      <td>...</td>\n",
       "      <td>0.0</td>\n",
       "      <td>0.0</td>\n",
       "      <td>0.0</td>\n",
       "      <td>0.0</td>\n",
       "      <td>1.0</td>\n",
       "      <td>0.0</td>\n",
       "      <td>0.0</td>\n",
       "      <td>3.0</td>\n",
       "      <td>3.0</td>\n",
       "      <td>55.0</td>\n",
       "    </tr>\n",
       "    <tr>\n",
       "      <th>4</th>\n",
       "      <td>0.0</td>\n",
       "      <td>0.0</td>\n",
       "      <td>0.0</td>\n",
       "      <td>0.0</td>\n",
       "      <td>0.0</td>\n",
       "      <td>1.0</td>\n",
       "      <td>1.0</td>\n",
       "      <td>0.0</td>\n",
       "      <td>0.0</td>\n",
       "      <td>0.0</td>\n",
       "      <td>...</td>\n",
       "      <td>0.0</td>\n",
       "      <td>0.0</td>\n",
       "      <td>0.0</td>\n",
       "      <td>0.0</td>\n",
       "      <td>0.0</td>\n",
       "      <td>1.0</td>\n",
       "      <td>0.0</td>\n",
       "      <td>5.0</td>\n",
       "      <td>3.0</td>\n",
       "      <td>47.0</td>\n",
       "    </tr>\n",
       "    <tr>\n",
       "      <th>...</th>\n",
       "      <td>...</td>\n",
       "      <td>...</td>\n",
       "      <td>...</td>\n",
       "      <td>...</td>\n",
       "      <td>...</td>\n",
       "      <td>...</td>\n",
       "      <td>...</td>\n",
       "      <td>...</td>\n",
       "      <td>...</td>\n",
       "      <td>...</td>\n",
       "      <td>...</td>\n",
       "      <td>...</td>\n",
       "      <td>...</td>\n",
       "      <td>...</td>\n",
       "      <td>...</td>\n",
       "      <td>...</td>\n",
       "      <td>...</td>\n",
       "      <td>...</td>\n",
       "      <td>...</td>\n",
       "      <td>...</td>\n",
       "      <td>...</td>\n",
       "    </tr>\n",
       "    <tr>\n",
       "      <th>663</th>\n",
       "      <td>0.0</td>\n",
       "      <td>0.0</td>\n",
       "      <td>0.0</td>\n",
       "      <td>0.0</td>\n",
       "      <td>0.0</td>\n",
       "      <td>1.0</td>\n",
       "      <td>0.0</td>\n",
       "      <td>1.0</td>\n",
       "      <td>0.0</td>\n",
       "      <td>0.0</td>\n",
       "      <td>...</td>\n",
       "      <td>0.0</td>\n",
       "      <td>1.0</td>\n",
       "      <td>0.0</td>\n",
       "      <td>0.0</td>\n",
       "      <td>0.0</td>\n",
       "      <td>0.0</td>\n",
       "      <td>0.0</td>\n",
       "      <td>4.0</td>\n",
       "      <td>4.0</td>\n",
       "      <td>50.0</td>\n",
       "    </tr>\n",
       "    <tr>\n",
       "      <th>664</th>\n",
       "      <td>0.0</td>\n",
       "      <td>0.0</td>\n",
       "      <td>0.0</td>\n",
       "      <td>0.0</td>\n",
       "      <td>0.0</td>\n",
       "      <td>1.0</td>\n",
       "      <td>1.0</td>\n",
       "      <td>0.0</td>\n",
       "      <td>1.0</td>\n",
       "      <td>0.0</td>\n",
       "      <td>...</td>\n",
       "      <td>0.0</td>\n",
       "      <td>0.0</td>\n",
       "      <td>0.0</td>\n",
       "      <td>0.0</td>\n",
       "      <td>0.0</td>\n",
       "      <td>1.0</td>\n",
       "      <td>0.0</td>\n",
       "      <td>2.0</td>\n",
       "      <td>4.0</td>\n",
       "      <td>51.0</td>\n",
       "    </tr>\n",
       "    <tr>\n",
       "      <th>665</th>\n",
       "      <td>0.0</td>\n",
       "      <td>0.0</td>\n",
       "      <td>0.0</td>\n",
       "      <td>0.0</td>\n",
       "      <td>0.0</td>\n",
       "      <td>1.0</td>\n",
       "      <td>0.0</td>\n",
       "      <td>1.0</td>\n",
       "      <td>0.0</td>\n",
       "      <td>0.0</td>\n",
       "      <td>...</td>\n",
       "      <td>0.0</td>\n",
       "      <td>0.0</td>\n",
       "      <td>0.0</td>\n",
       "      <td>0.0</td>\n",
       "      <td>0.0</td>\n",
       "      <td>0.0</td>\n",
       "      <td>0.0</td>\n",
       "      <td>4.0</td>\n",
       "      <td>3.0</td>\n",
       "      <td>65.0</td>\n",
       "    </tr>\n",
       "    <tr>\n",
       "      <th>666</th>\n",
       "      <td>0.0</td>\n",
       "      <td>0.0</td>\n",
       "      <td>0.0</td>\n",
       "      <td>1.0</td>\n",
       "      <td>0.0</td>\n",
       "      <td>0.0</td>\n",
       "      <td>1.0</td>\n",
       "      <td>0.0</td>\n",
       "      <td>0.0</td>\n",
       "      <td>1.0</td>\n",
       "      <td>...</td>\n",
       "      <td>0.0</td>\n",
       "      <td>0.0</td>\n",
       "      <td>0.0</td>\n",
       "      <td>0.0</td>\n",
       "      <td>0.0</td>\n",
       "      <td>0.0</td>\n",
       "      <td>1.0</td>\n",
       "      <td>2.0</td>\n",
       "      <td>4.0</td>\n",
       "      <td>51.0</td>\n",
       "    </tr>\n",
       "    <tr>\n",
       "      <th>667</th>\n",
       "      <td>0.0</td>\n",
       "      <td>0.0</td>\n",
       "      <td>0.0</td>\n",
       "      <td>1.0</td>\n",
       "      <td>0.0</td>\n",
       "      <td>0.0</td>\n",
       "      <td>0.0</td>\n",
       "      <td>1.0</td>\n",
       "      <td>0.0</td>\n",
       "      <td>0.0</td>\n",
       "      <td>...</td>\n",
       "      <td>1.0</td>\n",
       "      <td>0.0</td>\n",
       "      <td>0.0</td>\n",
       "      <td>0.0</td>\n",
       "      <td>0.0</td>\n",
       "      <td>0.0</td>\n",
       "      <td>0.0</td>\n",
       "      <td>4.0</td>\n",
       "      <td>5.0</td>\n",
       "      <td>56.0</td>\n",
       "    </tr>\n",
       "  </tbody>\n",
       "</table>\n",
       "<p>668 rows × 27 columns</p>\n",
       "</div>"
      ],
      "text/plain": [
       "      0    1    2    3    4    5    6    7    8    9   ...   17   18   19  \\\n",
       "0    0.0  0.0  1.0  0.0  0.0  0.0  1.0  0.0  0.0  0.0  ...  0.0  0.0  0.0   \n",
       "1    0.0  0.0  1.0  0.0  0.0  0.0  0.0  1.0  0.0  0.0  ...  0.0  1.0  0.0   \n",
       "2    1.0  0.0  0.0  0.0  0.0  0.0  1.0  0.0  0.0  0.0  ...  1.0  0.0  0.0   \n",
       "3    1.0  0.0  0.0  0.0  0.0  0.0  0.0  1.0  0.0  1.0  ...  0.0  0.0  0.0   \n",
       "4    0.0  0.0  0.0  0.0  0.0  1.0  1.0  0.0  0.0  0.0  ...  0.0  0.0  0.0   \n",
       "..   ...  ...  ...  ...  ...  ...  ...  ...  ...  ...  ...  ...  ...  ...   \n",
       "663  0.0  0.0  0.0  0.0  0.0  1.0  0.0  1.0  0.0  0.0  ...  0.0  1.0  0.0   \n",
       "664  0.0  0.0  0.0  0.0  0.0  1.0  1.0  0.0  1.0  0.0  ...  0.0  0.0  0.0   \n",
       "665  0.0  0.0  0.0  0.0  0.0  1.0  0.0  1.0  0.0  0.0  ...  0.0  0.0  0.0   \n",
       "666  0.0  0.0  0.0  1.0  0.0  0.0  1.0  0.0  0.0  1.0  ...  0.0  0.0  0.0   \n",
       "667  0.0  0.0  0.0  1.0  0.0  0.0  0.0  1.0  0.0  0.0  ...  1.0  0.0  0.0   \n",
       "\n",
       "      20   21   22   23   24   25    26  \n",
       "0    0.0  0.0  1.0  0.0  3.0  3.0  61.0  \n",
       "1    0.0  0.0  0.0  0.0  6.0  3.0  26.0  \n",
       "2    0.0  0.0  0.0  0.0  4.0  3.0  40.0  \n",
       "3    0.0  1.0  0.0  0.0  3.0  3.0  55.0  \n",
       "4    0.0  0.0  1.0  0.0  5.0  3.0  47.0  \n",
       "..   ...  ...  ...  ...  ...  ...   ...  \n",
       "663  0.0  0.0  0.0  0.0  4.0  4.0  50.0  \n",
       "664  0.0  0.0  1.0  0.0  2.0  4.0  51.0  \n",
       "665  0.0  0.0  0.0  0.0  4.0  3.0  65.0  \n",
       "666  0.0  0.0  0.0  1.0  2.0  4.0  51.0  \n",
       "667  0.0  0.0  0.0  0.0  4.0  5.0  56.0  \n",
       "\n",
       "[668 rows x 27 columns]"
      ]
     },
     "execution_count": 89,
     "metadata": {},
     "output_type": "execute_result"
    }
   ],
   "source": [
    "ct = ColumnTransformer(transformers=[('encoder', OneHotEncoder(), [0,1,2,3])], remainder='passthrough')\n",
    "dataenc = pd.DataFrame(ct.fit_transform(data).toarray())\n",
    "dataenc"
   ]
  },
  {
   "cell_type": "markdown",
   "id": "84c2c5f5",
   "metadata": {},
   "source": [
    "## Train-test split"
   ]
  },
  {
   "cell_type": "code",
   "execution_count": 90,
   "id": "8b8d6476",
   "metadata": {},
   "outputs": [],
   "source": [
    "X = dataenc.iloc[:,:-1]\n",
    "y = dataenc.iloc[:,-1]\n",
    "\n",
    "from sklearn.model_selection import train_test_split\n",
    "X_train, X_test, y_train, y_test = train_test_split(X, y, test_size = 0.2)"
   ]
  },
  {
   "cell_type": "markdown",
   "id": "627f6b77",
   "metadata": {},
   "source": [
    "## Helper function"
   ]
  },
  {
   "cell_type": "code",
   "execution_count": 91,
   "id": "d38707b0",
   "metadata": {},
   "outputs": [],
   "source": [
    "def evaluate(X,y):\n",
    "    y_pred = np.round(regressor.predict(X))\n",
    "    np.set_printoptions(precision=2)\n",
    "    rmse = np.sqrt(np.mean((y-y_pred)**2))\n",
    "    print(\"RMSE: \",rmse)"
   ]
  },
  {
   "cell_type": "markdown",
   "id": "7d20ff94",
   "metadata": {},
   "source": [
    "## Linear Regression"
   ]
  },
  {
   "cell_type": "code",
   "execution_count": 92,
   "id": "06fb9661",
   "metadata": {},
   "outputs": [
    {
     "name": "stdout",
     "output_type": "stream",
     "text": [
      "Train:  RMSE:  10.567776616759215\n",
      "Test:  RMSE:  10.480258627320339\n"
     ]
    }
   ],
   "source": [
    "from sklearn.linear_model import LinearRegression\n",
    "regressor = LinearRegression()\n",
    "regressor.fit(X_train, y_train)\n",
    "print(\"Train: \",end=\" \")\n",
    "evaluate(X_train,y_train)\n",
    "print(\"Test: \",end=\" \")\n",
    "evaluate(X_test,y_test)"
   ]
  },
  {
   "cell_type": "code",
   "execution_count": 93,
   "id": "7c7429bd",
   "metadata": {},
   "outputs": [
    {
     "data": {
      "text/plain": [
       "['model1.pkl']"
      ]
     },
     "execution_count": 93,
     "metadata": {},
     "output_type": "execute_result"
    }
   ],
   "source": [
    "model_enc=[regressor,ct]\n",
    "joblib.dump(model_enc, 'model1.pkl')"
   ]
  },
  {
   "cell_type": "markdown",
   "id": "5ae0930b",
   "metadata": {},
   "source": [
    "## Decision Tree"
   ]
  },
  {
   "cell_type": "code",
   "execution_count": 74,
   "id": "c71bae3f",
   "metadata": {},
   "outputs": [
    {
     "name": "stdout",
     "output_type": "stream",
     "text": [
      "Train:  RMSE:  3.51055124410016\n",
      "Test:  RMSE:  16.541896153652065\n"
     ]
    }
   ],
   "source": [
    "from sklearn.tree import DecisionTreeRegressor\n",
    "regressor = DecisionTreeRegressor()\n",
    "regressor.fit(X_train, y_train)\n",
    "print(\"Train: \",end=\" \")\n",
    "evaluate(X_train,y_train)\n",
    "print(\"Test: \",end=\" \")\n",
    "evaluate(X_test,y_test)"
   ]
  },
  {
   "cell_type": "code",
   "execution_count": 75,
   "id": "4b3811b5",
   "metadata": {},
   "outputs": [
    {
     "data": {
      "text/plain": [
       "['model2.pkl']"
      ]
     },
     "execution_count": 75,
     "metadata": {},
     "output_type": "execute_result"
    }
   ],
   "source": [
    "model_enc=[regressor,ct]\n",
    "joblib.dump(model_enc, 'model2.pkl')"
   ]
  },
  {
   "cell_type": "markdown",
   "id": "140a7ffe",
   "metadata": {},
   "source": [
    "## Random Forest Regression"
   ]
  },
  {
   "cell_type": "code",
   "execution_count": 77,
   "id": "c64ce740",
   "metadata": {},
   "outputs": [
    {
     "name": "stdout",
     "output_type": "stream",
     "text": [
      "Train:  RMSE:  5.176835468523681\n",
      "Test:  RMSE:  12.710907291735884\n"
     ]
    }
   ],
   "source": [
    "from sklearn.ensemble import RandomForestRegressor\n",
    "regressor = RandomForestRegressor()\n",
    "regressor.fit(X_train, y_train)\n",
    "print(\"Train: \",end=\" \")\n",
    "evaluate(X_train,y_train)\n",
    "print(\"Test: \",end=\" \")\n",
    "evaluate(X_test,y_test)"
   ]
  },
  {
   "cell_type": "code",
   "execution_count": 78,
   "id": "4f1038f6",
   "metadata": {},
   "outputs": [
    {
     "data": {
      "text/plain": [
       "['model3.pkl']"
      ]
     },
     "execution_count": 78,
     "metadata": {},
     "output_type": "execute_result"
    }
   ],
   "source": [
    "model_enc=[regressor,ct]\n",
    "joblib.dump(model_enc, 'model3.pkl')"
   ]
  },
  {
   "cell_type": "markdown",
   "id": "a4bae918",
   "metadata": {},
   "source": [
    "## KNN"
   ]
  },
  {
   "cell_type": "code",
   "execution_count": 79,
   "id": "27d531a9",
   "metadata": {},
   "outputs": [
    {
     "name": "stdout",
     "output_type": "stream",
     "text": [
      "Train:  RMSE:  9.540962349093329\n",
      "Test:  RMSE:  12.929198703109083\n"
     ]
    }
   ],
   "source": [
    "from sklearn.neighbors import KNeighborsRegressor\n",
    "regressor = KNeighborsRegressor()\n",
    "regressor.fit(X_train, y_train)\n",
    "print(\"Train: \",end=\" \")\n",
    "evaluate(X_train,y_train)\n",
    "print(\"Test: \",end=\" \")\n",
    "evaluate(X_test,y_test)"
   ]
  },
  {
   "cell_type": "code",
   "execution_count": 80,
   "id": "bd82b3d6",
   "metadata": {},
   "outputs": [
    {
     "data": {
      "text/plain": [
       "['model4.pkl']"
      ]
     },
     "execution_count": 80,
     "metadata": {},
     "output_type": "execute_result"
    }
   ],
   "source": [
    "model_enc=[regressor,ct]\n",
    "joblib.dump(model_enc, 'model4.pkl')"
   ]
  },
  {
   "cell_type": "markdown",
   "id": "91f50800",
   "metadata": {},
   "source": [
    "## XGBoost"
   ]
  },
  {
   "cell_type": "code",
   "execution_count": 84,
   "id": "79f49685",
   "metadata": {},
   "outputs": [
    {
     "name": "stdout",
     "output_type": "stream",
     "text": [
      "Collecting xgboost\n",
      "  Using cached xgboost-1.6.1-py3-none-win_amd64.whl (125.4 MB)\n",
      "Requirement already satisfied: scipy in c:\\users\\han\\appdata\\local\\programs\\python\\python39\\lib\\site-packages (from xgboost) (1.7.3)\n",
      "Requirement already satisfied: numpy in c:\\users\\han\\appdata\\local\\programs\\python\\python39\\lib\\site-packages (from xgboost) (1.21.4)\n",
      "Installing collected packages: xgboost\n",
      "Successfully installed xgboost-1.6.1\n",
      "Note: you may need to restart the kernel to use updated packages.\n"
     ]
    },
    {
     "name": "stderr",
     "output_type": "stream",
     "text": [
      "WARNING: You are using pip version 21.3.1; however, version 22.1.2 is available.\n",
      "You should consider upgrading via the 'C:\\Users\\Han\\AppData\\Local\\Programs\\Python\\Python39\\pythonw.exe -m pip install --upgrade pip' command.\n"
     ]
    }
   ],
   "source": [
    "pip install xgboost"
   ]
  },
  {
   "cell_type": "code",
   "execution_count": 85,
   "id": "feaa388b",
   "metadata": {},
   "outputs": [
    {
     "name": "stdout",
     "output_type": "stream",
     "text": [
      "Train:  RMSE:  3.9071623466393426\n",
      "Test:  RMSE:  14.338654571659545\n"
     ]
    }
   ],
   "source": [
    "import xgboost as xgb\n",
    "regressor = xgb.XGBRegressor()\n",
    "regressor.fit(X_train, y_train)\n",
    "print(\"Train: \",end=\" \")\n",
    "evaluate(X_train,y_train)\n",
    "print(\"Test: \",end=\" \")\n",
    "evaluate(X_test,y_test)"
   ]
  },
  {
   "cell_type": "code",
   "execution_count": 86,
   "id": "09bc625d",
   "metadata": {},
   "outputs": [
    {
     "data": {
      "text/plain": [
       "['model5.pkl']"
      ]
     },
     "execution_count": 86,
     "metadata": {},
     "output_type": "execute_result"
    }
   ],
   "source": [
    "model_enc=[regressor,ct]\n",
    "joblib.dump(model_enc, 'model5.pkl')"
   ]
  },
  {
   "cell_type": "code",
   "execution_count": null,
   "id": "25f1114f",
   "metadata": {},
   "outputs": [],
   "source": []
  }
 ],
 "metadata": {
  "kernelspec": {
   "display_name": "Python 3 (ipykernel)",
   "language": "python",
   "name": "python3"
  },
  "language_info": {
   "codemirror_mode": {
    "name": "ipython",
    "version": 3
   },
   "file_extension": ".py",
   "mimetype": "text/x-python",
   "name": "python",
   "nbconvert_exporter": "python",
   "pygments_lexer": "ipython3",
   "version": "3.9.9"
  }
 },
 "nbformat": 4,
 "nbformat_minor": 5
}
